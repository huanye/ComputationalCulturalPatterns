{
 "cells": [
  {
   "cell_type": "markdown",
   "metadata": {
    "collapsed": true
   },
   "source": [
    "### data preprocessing"
   ]
  },
  {
   "cell_type": "code",
   "execution_count": null,
   "metadata": {},
   "outputs": [],
   "source": [
    "import pandas as pd\n",
    "music_df = pd.read_csv(\"music_df.csv\")"
   ]
  },
  {
   "cell_type": "code",
   "execution_count": 4,
   "metadata": {},
   "outputs": [
    {
     "data": {
      "text/plain": [
       "Index(['lyrics', 'num_syllables', 'pos', 'year', 'fog_index', 'flesch_index',\n",
       "       'num_words', 'num_lines', 'title', 'f_k_grade', 'artist',\n",
       "       'difficult_words', 'num_dupes', 'neg', 'neu', 'compound', 'id',\n",
       "       'danceability', 'energy', 'key', 'loudness', 'mode', 'speechiness',\n",
       "       'acousticness', 'instrumentalness', 'liveness', 'valence', 'tempo',\n",
       "       'duration_ms', 'time_signature', 'uri', 'analysis_url',\n",
       "       'artist_with_features', 'year_bin', 'image', 'cluster', 'Gender'],\n",
       "      dtype='object')"
      ]
     },
     "execution_count": 4,
     "metadata": {},
     "output_type": "execute_result"
    }
   ],
   "source": [
    "music_df.columns"
   ]
  },
  {
   "cell_type": "markdown",
   "metadata": {},
   "source": [
    "We list out all features from three aspects:"
   ]
  },
  {
   "cell_type": "code",
   "execution_count": 5,
   "metadata": {},
   "outputs": [],
   "source": [
    "audio_features = [\"danceability\",\"energy\",\"loudness\",\"mode\",\"speechiness\",\"acousticness\",\"instrumentalness\",\"liveness\",\"valence\",\"tempo\",\"duration_ms\",\"time_signature\"]\n",
    "readability_features = [\"num_words\",\"num_lines\",\"num_syllables\",\"difficult_words\",\"fog_index\",\"flesch_index\",\"f_k_grade\"]\n",
    "sentiment_features = [\"neg\",\"neu\",\"pos\",\"compound\"]"
   ]
  },
  {
   "cell_type": "markdown",
   "metadata": {},
   "source": [
    "Then some preprocessing with the year bins:"
   ]
  },
  {
   "cell_type": "code",
   "execution_count": 6,
   "metadata": {},
   "outputs": [],
   "source": [
    "music_df[\"year_bin\"]=music_df[\"year_bin\"].apply(lambda x: \"20\"+x if x in [\"00s\",\"10s\"] else \"19\"+x)"
   ]
  },
  {
   "cell_type": "markdown",
   "metadata": {},
   "source": [
    "# Question 1"
   ]
  },
  {
   "cell_type": "markdown",
   "metadata": {},
   "source": [
    "## 1.1 General analysis for the \"formula\" of popular songs across all years"
   ]
  },
  {
   "cell_type": "markdown",
   "metadata": {},
   "source": [
    "## 1) acoustic features"
   ]
  },
  {
   "cell_type": "markdown",
   "metadata": {},
   "source": [
    "To find out some \"formula\" to characterize the most popular songs in general, first, we examine single features from the audio_feature metrics by checking the standard deviations of the score distributions. If we find any feature score with the relatively small proportion of the standard deviation compared with its possible range, which we specify as less than 0.1, we identify this feature could be a good indicator of all popular songs across years. "
   ]
  },
  {
   "cell_type": "code",
   "execution_count": 41,
   "metadata": {},
   "outputs": [
    {
     "data": {
      "text/plain": [
       "speechiness             0.070125\n",
       "instrumentalness        0.087393\n",
       "duration_ms         64512.502623\n",
       "time_signature          0.488598\n",
       "dtype: float64"
      ]
     },
     "execution_count": 41,
     "metadata": {},
     "output_type": "execute_result"
    }
   ],
   "source": [
    "deviations = music_df[audio_features].std()\n",
    "ranges = music_df[audio_features].max()-music_df[audio_features].min()\n",
    "deviations[deviations/ranges<0.1]"
   ]
  },
  {
   "cell_type": "markdown",
   "metadata": {},
   "source": [
    "We can see among all deviations, four proportions are below 0.1 indicating relatively stable feature scores for all the most popular songs: speechiness, instrumentalness, duration_ms and time_signature, so next we furthur check the distribution of the four audio features:"
   ]
  },
  {
   "cell_type": "code",
   "execution_count": 52,
   "metadata": {},
   "outputs": [
    {
     "data": {
      "image/png": "[encoded data removed]",
      "text/plain": [
       "<Figure size 432x288 with 4 Axes>"
      ]
     },
     "metadata": {
      "needs_background": "light"
     },
     "output_type": "display_data"
    }
   ],
   "source": [
    "import matplotlib.pyplot as plt\n",
    "import seaborn as sns\n",
    "fig, axs = plt.subplots(ncols=2,nrows=2)\n",
    "fig.tight_layout()\n",
    "kwargs = dict(hist_kws={'alpha':.6}, kde_kws={'linewidth':2})\n",
    "sns.distplot(music_df['speechiness'], color=\"\", label=\"speechiness\", **kwargs,ax=axs[0,0])\n",
    "sns.distplot(music_df[\"instrumentalness\"], color=\"dodgerblue\", label=\"instrumentalness\", **kwargs,ax=axs[0,1])\n",
    "sns.distplot(music_df['duration_ms'], color=\"dodgerblue\", label=\"duration ms\", **kwargs,ax=axs[1,0])\n",
    "sns.distplot(music_df['time_signature'], color=\"dodgerblue\", label=\"time signature\", **kwargs,ax=axs[1,1])\n",
    "plt.show()"
   ]
  },
  {
   "cell_type": "markdown",
   "metadata": {},
   "source": [
    "For the first two audio features, we can see the average levels of both the first two scores are close to 0 and both have long tails in their distributions, and we can compute the median scores of both to confirm it:"
   ]
  },
  {
   "cell_type": "code",
   "execution_count": 66,
   "metadata": {},
   "outputs": [
    {
     "data": {
      "text/plain": [
       "speechiness         0.039900\n",
       "instrumentalness    0.000003\n",
       "dtype: float64"
      ]
     },
     "execution_count": 66,
     "metadata": {},
     "output_type": "execute_result"
    }
   ],
   "source": [
    "music_df[['speechiness','instrumentalness']].median()"
   ]
  },
  {
   "cell_type": "markdown",
   "metadata": {},
   "source": [
    "The low speechiness means the most popular songs tend to be non-speech-like, and in this sense rap music are less likely to be the most popular one due to its higher speechniness score. On the other hand, the low instrumentalness is what we expected, meaning the most popular songs tend to contain more vocal contents which are more likely to affect listeners than pure instrumental melodies. For the next two features, the music durations and time signature, we can see the they are also concentrated with low level variance and their median values are:"
   ]
  },
  {
   "cell_type": "code",
   "execution_count": 50,
   "metadata": {},
   "outputs": [
    {
     "data": {
      "text/plain": [
       "duration_ms       229253.5\n",
       "time_signature         4.0\n",
       "dtype: float64"
      ]
     },
     "execution_count": 50,
     "metadata": {},
     "output_type": "execute_result"
    }
   ],
   "source": [
    "music_df[['duration_ms','time_signature']].median()"
   ]
  },
  {
   "cell_type": "markdown",
   "metadata": {},
   "source": [
    "To sum up for the acoustic features, those most popular songs tend to have very low levels of speechiness and instrumentalness, with song durations around 230000ms and more likely to take the time sigature of 4 beats per measure. "
   ]
  },
  {
   "cell_type": "markdown",
   "metadata": {},
   "source": [
    "## 2) readability features"
   ]
  },
  {
   "cell_type": "markdown",
   "metadata": {},
   "source": [
    "Next in the same way, we examine the readability features:"
   ]
  },
  {
   "cell_type": "code",
   "execution_count": 53,
   "metadata": {},
   "outputs": [
    {
     "data": {
      "text/plain": [
       "flesch_index    8.160546\n",
       "f_k_grade       1.227265\n",
       "dtype: float64"
      ]
     },
     "execution_count": 53,
     "metadata": {},
     "output_type": "execute_result"
    }
   ],
   "source": [
    "r_deviations = music_df[readability_features].std()\n",
    "r_ranges = music_df[readability_features].max()-music_df[readability_features].min()\n",
    "r_deviations[r_deviations/r_ranges<0.1]"
   ]
  },
  {
   "cell_type": "markdown",
   "metadata": {},
   "source": [
    "we plot the distribution of the two readability features:"
   ]
  },
  {
   "cell_type": "code",
   "execution_count": 54,
   "metadata": {},
   "outputs": [
    {
     "data": {
      "image/png": "[encoded data removed]",
      "text/plain": [
       "<Figure size 432x288 with 2 Axes>"
      ]
     },
     "metadata": {
      "needs_background": "light"
     },
     "output_type": "display_data"
    }
   ],
   "source": [
    "import matplotlib.pyplot as plt\n",
    "import seaborn as sns\n",
    "fig, axs = plt.subplots(ncols=2,nrows=1)\n",
    "fig.tight_layout()\n",
    "kwargs = dict(hist_kws={'alpha':.6}, kde_kws={'linewidth':2})\n",
    "sns.distplot(music_df['flesch_index'], color=\"orange\", label=\"Flesch reading ease score\", **kwargs,ax=axs[0])\n",
    "sns.distplot(music_df[\"f_k_grade\"], color=\"orange\", label=\"Flesch–Kincaid grade level of lyrics\", **kwargs,ax=axs[1])\n",
    "plt.show()"
   ]
  },
  {
   "cell_type": "markdown",
   "metadata": {},
   "source": [
    "We also check their medians respectively:"
   ]
  },
  {
   "cell_type": "code",
   "execution_count": 55,
   "metadata": {},
   "outputs": [
    {
     "data": {
      "text/plain": [
       "flesch_index    99.23\n",
       "f_k_grade        0.90\n",
       "dtype: float64"
      ]
     },
     "execution_count": 55,
     "metadata": {},
     "output_type": "execute_result"
    }
   ],
   "source": [
    "music_df[['flesch_index',\"f_k_grade\"]].median()"
   ]
  },
  {
   "cell_type": "markdown",
   "metadata": {},
   "source": [
    "To sum up for the readabiliy features, those most popular songs tend to take the Flesch reading ease scores around 99 and the Flesch–Kincaid grade level of 0.9, both of which indicate the lyrics of most popular songs are most likely extremely easy to read according to [here](https://yoast.com/flesch-reading-ease-score/) and [here](https://readable.com/blog/the-flesch-reading-ease-and-flesch-kincaid-grade-level/)."
   ]
  },
  {
   "cell_type": "markdown",
   "metadata": {},
   "source": [
    "## 3) sentiment features"
   ]
  },
  {
   "cell_type": "markdown",
   "metadata": {},
   "source": [
    "Finally for sentiment features, we directly check their standard deviations to see if any one is significantly less than 0.1 because we know their ranges are all from 0 to 1."
   ]
  },
  {
   "cell_type": "code",
   "execution_count": 58,
   "metadata": {},
   "outputs": [
    {
     "data": {
      "text/plain": [
       "neg         0.066026\n",
       "neu         0.099435\n",
       "pos         0.093612\n",
       "compound    0.755299\n",
       "dtype: float64"
      ]
     },
     "execution_count": 58,
     "metadata": {},
     "output_type": "execute_result"
    }
   ],
   "source": [
    "s_deviations = music_df[sentiment_features].std()\n",
    "s_deviations"
   ]
  },
  {
   "cell_type": "markdown",
   "metadata": {},
   "source": [
    "So only the standard deviations of the negativity scores is significantly below 1, and we plot its distribution:"
   ]
  },
  {
   "cell_type": "code",
   "execution_count": 62,
   "metadata": {},
   "outputs": [
    {
     "data": {
      "image/png": "[encoded data removed]",
      "text/plain": [
       "<Figure size 432x288 with 1 Axes>"
      ]
     },
     "metadata": {
      "needs_background": "light"
     },
     "output_type": "display_data"
    }
   ],
   "source": [
    "import matplotlib.pyplot as plt\n",
    "import seaborn as sns\n",
    "kwargs = dict(hist_kws={'alpha':.6}, kde_kws={'linewidth':2})\n",
    "sns.distplot(music_df['neg'], color=\"deeppink\", label=\"Negativity score\", **kwargs)\n",
    "plt.show()"
   ]
  },
  {
   "cell_type": "markdown",
   "metadata": {},
   "source": [
    "and we check its median, which is very close to 0, meaning a low level of negativity association with the lyrics of the most popular songs:"
   ]
  },
  {
   "cell_type": "code",
   "execution_count": 65,
   "metadata": {},
   "outputs": [
    {
     "data": {
      "text/plain": [
       "0.057"
      ]
     },
     "execution_count": 65,
     "metadata": {},
     "output_type": "execute_result"
    }
   ],
   "source": [
    "music_df[\"neg\"].median()"
   ]
  },
  {
   "cell_type": "markdown",
   "metadata": {},
   "source": [
    "## Conclusions of the general analysis "
   ]
  },
  {
   "cell_type": "markdown",
   "metadata": {},
   "source": [
    "To sum up for the general analysis on the \"formula\" of all the most popular songs across all years, they are characterized by the following features:\n",
    "- very low levels of speechiness and instrumentalness\n",
    "- song duration around 230000ms or approximately 4 minutes\n",
    "- time sigature of 4 beats per measure\n",
    "- lyrics which are extremely easy to read\n",
    "- lyrics with low level of negative sentiments"
   ]
  },
  {
   "cell_type": "markdown",
   "metadata": {},
   "source": [
    "## 1.2 Temporal analysis of popular songs over decades"
   ]
  },
  {
   "cell_type": "markdown",
   "metadata": {},
   "source": [
    "Although the general analysis can provide a big picture of what features characterize the most popular songs from the mid twentieth century to the begining of the twenty first century, we also expect some variances in those features during the long period of time. So next, we take a closer look at any possible trend of acoustic, readability and sentiment features as well as the contents of song lyrics by the decade.  "
   ]
  },
  {
   "cell_type": "markdown",
   "metadata": {},
   "source": [
    "## 1) trends of acoustic, readability and sentiment features"
   ]
  },
  {
   "cell_type": "markdown",
   "metadata": {},
   "source": [
    "We first aggregate acoustic feature scores by taking the averages for each decade:"
   ]
  },
  {
   "cell_type": "code",
   "execution_count": 87,
   "metadata": {},
   "outputs": [
    {
     "data": {
      "text/html": [
       "<div>\n",
       "<style scoped>\n",
       "    .dataframe tbody tr th:only-of-type {\n",
       "        vertical-align: middle;\n",
       "    }\n",
       "\n",
       "    .dataframe tbody tr th {\n",
       "        vertical-align: top;\n",
       "    }\n",
       "\n",
       "    .dataframe thead th {\n",
       "        text-align: right;\n",
       "    }\n",
       "</style>\n",
       "<table border=\"1\" class=\"dataframe\">\n",
       "  <thead>\n",
       "    <tr style=\"text-align: right;\">\n",
       "      <th></th>\n",
       "      <th>danceability</th>\n",
       "      <th>energy</th>\n",
       "      <th>loudness</th>\n",
       "      <th>mode</th>\n",
       "      <th>speechiness</th>\n",
       "      <th>acousticness</th>\n",
       "      <th>instrumentalness</th>\n",
       "      <th>liveness</th>\n",
       "      <th>valence</th>\n",
       "      <th>tempo</th>\n",
       "      <th>duration_ms</th>\n",
       "      <th>time_signature</th>\n",
       "    </tr>\n",
       "  </thead>\n",
       "  <tbody>\n",
       "    <tr>\n",
       "      <td>1950s</td>\n",
       "      <td>0.515941</td>\n",
       "      <td>0.405510</td>\n",
       "      <td>-11.450249</td>\n",
       "      <td>0.859729</td>\n",
       "      <td>0.057941</td>\n",
       "      <td>0.742500</td>\n",
       "      <td>0.012369</td>\n",
       "      <td>0.195126</td>\n",
       "      <td>0.606459</td>\n",
       "      <td>114.409226</td>\n",
       "      <td>157174.538462</td>\n",
       "      <td>3.701357</td>\n",
       "    </tr>\n",
       "    <tr>\n",
       "      <td>1960s</td>\n",
       "      <td>0.542838</td>\n",
       "      <td>0.517368</td>\n",
       "      <td>-9.902272</td>\n",
       "      <td>0.793834</td>\n",
       "      <td>0.049366</td>\n",
       "      <td>0.470477</td>\n",
       "      <td>0.022574</td>\n",
       "      <td>0.196478</td>\n",
       "      <td>0.667862</td>\n",
       "      <td>118.955349</td>\n",
       "      <td>169146.452794</td>\n",
       "      <td>3.834297</td>\n",
       "    </tr>\n",
       "    <tr>\n",
       "      <td>1970s</td>\n",
       "      <td>0.579640</td>\n",
       "      <td>0.576003</td>\n",
       "      <td>-10.152209</td>\n",
       "      <td>0.737984</td>\n",
       "      <td>0.046494</td>\n",
       "      <td>0.333978</td>\n",
       "      <td>0.024345</td>\n",
       "      <td>0.179496</td>\n",
       "      <td>0.652274</td>\n",
       "      <td>117.213571</td>\n",
       "      <td>235339.317829</td>\n",
       "      <td>3.927132</td>\n",
       "    </tr>\n",
       "    <tr>\n",
       "      <td>1980s</td>\n",
       "      <td>0.626515</td>\n",
       "      <td>0.633501</td>\n",
       "      <td>-9.388511</td>\n",
       "      <td>0.698287</td>\n",
       "      <td>0.043483</td>\n",
       "      <td>0.228976</td>\n",
       "      <td>0.021804</td>\n",
       "      <td>0.163635</td>\n",
       "      <td>0.629270</td>\n",
       "      <td>119.419611</td>\n",
       "      <td>254108.171278</td>\n",
       "      <td>3.953887</td>\n",
       "    </tr>\n",
       "    <tr>\n",
       "      <td>1990s</td>\n",
       "      <td>0.622353</td>\n",
       "      <td>0.617188</td>\n",
       "      <td>-8.143383</td>\n",
       "      <td>0.669151</td>\n",
       "      <td>0.068163</td>\n",
       "      <td>0.202947</td>\n",
       "      <td>0.014422</td>\n",
       "      <td>0.178940</td>\n",
       "      <td>0.544125</td>\n",
       "      <td>112.665970</td>\n",
       "      <td>261502.214605</td>\n",
       "      <td>3.876304</td>\n",
       "    </tr>\n",
       "    <tr>\n",
       "      <td>2000s</td>\n",
       "      <td>0.653979</td>\n",
       "      <td>0.690682</td>\n",
       "      <td>-5.723032</td>\n",
       "      <td>0.612081</td>\n",
       "      <td>0.106410</td>\n",
       "      <td>0.149382</td>\n",
       "      <td>0.008496</td>\n",
       "      <td>0.171159</td>\n",
       "      <td>0.565461</td>\n",
       "      <td>117.422181</td>\n",
       "      <td>242039.297987</td>\n",
       "      <td>3.958389</td>\n",
       "    </tr>\n",
       "    <tr>\n",
       "      <td>2010s</td>\n",
       "      <td>0.633182</td>\n",
       "      <td>0.719591</td>\n",
       "      <td>-5.289100</td>\n",
       "      <td>0.675214</td>\n",
       "      <td>0.081462</td>\n",
       "      <td>0.125818</td>\n",
       "      <td>0.008369</td>\n",
       "      <td>0.189498</td>\n",
       "      <td>0.538455</td>\n",
       "      <td>121.558256</td>\n",
       "      <td>224494.741453</td>\n",
       "      <td>3.980769</td>\n",
       "    </tr>\n",
       "    <tr>\n",
       "      <td>difference</td>\n",
       "      <td>0.138037</td>\n",
       "      <td>0.314081</td>\n",
       "      <td>6.161148</td>\n",
       "      <td>0.247648</td>\n",
       "      <td>0.062928</td>\n",
       "      <td>0.616683</td>\n",
       "      <td>0.015976</td>\n",
       "      <td>0.032843</td>\n",
       "      <td>0.129407</td>\n",
       "      <td>8.892286</td>\n",
       "      <td>104327.676144</td>\n",
       "      <td>0.279412</td>\n",
       "    </tr>\n",
       "  </tbody>\n",
       "</table>\n",
       "</div>"
      ],
      "text/plain": [
       "            danceability    energy   loudness      mode  speechiness  \\\n",
       "1950s           0.515941  0.405510 -11.450249  0.859729     0.057941   \n",
       "1960s           0.542838  0.517368  -9.902272  0.793834     0.049366   \n",
       "1970s           0.579640  0.576003 -10.152209  0.737984     0.046494   \n",
       "1980s           0.626515  0.633501  -9.388511  0.698287     0.043483   \n",
       "1990s           0.622353  0.617188  -8.143383  0.669151     0.068163   \n",
       "2000s           0.653979  0.690682  -5.723032  0.612081     0.106410   \n",
       "2010s           0.633182  0.719591  -5.289100  0.675214     0.081462   \n",
       "difference      0.138037  0.314081   6.161148  0.247648     0.062928   \n",
       "\n",
       "            acousticness  instrumentalness  liveness   valence       tempo  \\\n",
       "1950s           0.742500          0.012369  0.195126  0.606459  114.409226   \n",
       "1960s           0.470477          0.022574  0.196478  0.667862  118.955349   \n",
       "1970s           0.333978          0.024345  0.179496  0.652274  117.213571   \n",
       "1980s           0.228976          0.021804  0.163635  0.629270  119.419611   \n",
       "1990s           0.202947          0.014422  0.178940  0.544125  112.665970   \n",
       "2000s           0.149382          0.008496  0.171159  0.565461  117.422181   \n",
       "2010s           0.125818          0.008369  0.189498  0.538455  121.558256   \n",
       "difference      0.616683          0.015976  0.032843  0.129407    8.892286   \n",
       "\n",
       "              duration_ms  time_signature  \n",
       "1950s       157174.538462        3.701357  \n",
       "1960s       169146.452794        3.834297  \n",
       "1970s       235339.317829        3.927132  \n",
       "1980s       254108.171278        3.953887  \n",
       "1990s       261502.214605        3.876304  \n",
       "2000s       242039.297987        3.958389  \n",
       "2010s       224494.741453        3.980769  \n",
       "difference  104327.676144        0.279412  "
      ]
     },
     "execution_count": 87,
     "metadata": {},
     "output_type": "execute_result"
    }
   ],
   "source": [
    "a_means = music_df[audio_features+[\"year_bin\"]].groupby(\"year_bin\").mean()\n",
    "diff = pd.DataFrame(a_means.apply(lambda x: max(x)-min(x))).transpose()\n",
    "diff.index = [\"difference\"]\n",
    "a_means_diff = a_means.append(diff)\n",
    "a_means_diff"
   ]
  },
  {
   "cell_type": "markdown",
   "metadata": {},
   "source": [
    "We can observe the majority of acoustic features changed monotonically or almost monotonically. Considering the possible ranges of these scores, we select four most sailient changes: energy, loudness, acousticness, and mode. Then we plot these changes:"
   ]
  },
  {
   "cell_type": "code",
   "execution_count": 103,
   "metadata": {},
   "outputs": [
    {
     "data": {
      "image/png": "[encoded data removed]",
      "text/plain": [
       "<Figure size 432x288 with 1 Axes>"
      ]
     },
     "metadata": {
      "needs_background": "light"
     },
     "output_type": "display_data"
    },
    {
     "data": {
      "image/png": "[encoded data removed]",
      "text/plain": [
       "<Figure size 432x288 with 1 Axes>"
      ]
     },
     "metadata": {
      "needs_background": "light"
     },
     "output_type": "display_data"
    }
   ],
   "source": [
    "plt.title(\"loudness\")\n",
    "plt.xlabel(\"year_bin\")\n",
    "plt.plot(a_means[\"loudness\"])\n",
    "a_means[[\"energy\", \"acousticness\", \"mode\"]].plot.line()\n",
    "plt.show()"
   ]
  },
  {
   "cell_type": "markdown",
   "metadata": {},
   "source": [
    "Next we apply the same procedures to sentiment features."
   ]
  },
  {
   "cell_type": "code",
   "execution_count": 106,
   "metadata": {},
   "outputs": [
    {
     "data": {
      "text/html": [
       "<div>\n",
       "<style scoped>\n",
       "    .dataframe tbody tr th:only-of-type {\n",
       "        vertical-align: middle;\n",
       "    }\n",
       "\n",
       "    .dataframe tbody tr th {\n",
       "        vertical-align: top;\n",
       "    }\n",
       "\n",
       "    .dataframe thead th {\n",
       "        text-align: right;\n",
       "    }\n",
       "</style>\n",
       "<table border=\"1\" class=\"dataframe\">\n",
       "  <thead>\n",
       "    <tr style=\"text-align: right;\">\n",
       "      <th></th>\n",
       "      <th>neg</th>\n",
       "      <th>neu</th>\n",
       "      <th>pos</th>\n",
       "      <th>compound</th>\n",
       "    </tr>\n",
       "  </thead>\n",
       "  <tbody>\n",
       "    <tr>\n",
       "      <td>1950s</td>\n",
       "      <td>0.062457</td>\n",
       "      <td>0.742805</td>\n",
       "      <td>0.194733</td>\n",
       "      <td>0.690462</td>\n",
       "    </tr>\n",
       "    <tr>\n",
       "      <td>1960s</td>\n",
       "      <td>0.070778</td>\n",
       "      <td>0.763800</td>\n",
       "      <td>0.165455</td>\n",
       "      <td>0.518240</td>\n",
       "    </tr>\n",
       "    <tr>\n",
       "      <td>1970s</td>\n",
       "      <td>0.070116</td>\n",
       "      <td>0.762017</td>\n",
       "      <td>0.167856</td>\n",
       "      <td>0.568366</td>\n",
       "    </tr>\n",
       "    <tr>\n",
       "      <td>1980s</td>\n",
       "      <td>0.071054</td>\n",
       "      <td>0.768663</td>\n",
       "      <td>0.160292</td>\n",
       "      <td>0.548810</td>\n",
       "    </tr>\n",
       "    <tr>\n",
       "      <td>1990s</td>\n",
       "      <td>0.074946</td>\n",
       "      <td>0.770779</td>\n",
       "      <td>0.154277</td>\n",
       "      <td>0.528209</td>\n",
       "    </tr>\n",
       "    <tr>\n",
       "      <td>2000s</td>\n",
       "      <td>0.079588</td>\n",
       "      <td>0.786409</td>\n",
       "      <td>0.134021</td>\n",
       "      <td>0.436417</td>\n",
       "    </tr>\n",
       "    <tr>\n",
       "      <td>2010s</td>\n",
       "      <td>0.085365</td>\n",
       "      <td>0.771147</td>\n",
       "      <td>0.143470</td>\n",
       "      <td>0.443677</td>\n",
       "    </tr>\n",
       "    <tr>\n",
       "      <td>difference</td>\n",
       "      <td>0.022908</td>\n",
       "      <td>0.043604</td>\n",
       "      <td>0.060712</td>\n",
       "      <td>0.254045</td>\n",
       "    </tr>\n",
       "  </tbody>\n",
       "</table>\n",
       "</div>"
      ],
      "text/plain": [
       "                 neg       neu       pos  compound\n",
       "1950s       0.062457  0.742805  0.194733  0.690462\n",
       "1960s       0.070778  0.763800  0.165455  0.518240\n",
       "1970s       0.070116  0.762017  0.167856  0.568366\n",
       "1980s       0.071054  0.768663  0.160292  0.548810\n",
       "1990s       0.074946  0.770779  0.154277  0.528209\n",
       "2000s       0.079588  0.786409  0.134021  0.436417\n",
       "2010s       0.085365  0.771147  0.143470  0.443677\n",
       "difference  0.022908  0.043604  0.060712  0.254045"
      ]
     },
     "execution_count": 106,
     "metadata": {},
     "output_type": "execute_result"
    }
   ],
   "source": [
    "s_means = music_df[sentiment_features+[\"year_bin\"]].groupby(\"year_bin\").mean()\n",
    "s_diff = pd.DataFrame(s_means.apply(lambda x: max(x)-min(x))).transpose()\n",
    "s_diff.index = [\"difference\"]\n",
    "s_means_diff = s_means.append(s_diff)\n",
    "s_means_diff"
   ]
  },
  {
   "cell_type": "markdown",
   "metadata": {},
   "source": [
    "We can see the overall decreasing of the compound sentiment scores over decades."
   ]
  },
  {
   "cell_type": "code",
   "execution_count": 116,
   "metadata": {},
   "outputs": [
    {
     "data": {
      "image/png": "[encoded data removed]",
      "text/plain": [
       "<Figure size 432x288 with 1 Axes>"
      ]
     },
     "metadata": {
      "needs_background": "light"
     },
     "output_type": "display_data"
    }
   ],
   "source": [
    "plt.ylabel(\"compound sentiment score\")\n",
    "plt.xlabel(\"year_bin\")\n",
    "plt.plot(s_means[\"compound\"])\n",
    "plt.show()"
   ]
  },
  {
   "cell_type": "markdown",
   "metadata": {},
   "source": [
    "Finally we apply the same procedures to readability features."
   ]
  },
  {
   "cell_type": "code",
   "execution_count": 112,
   "metadata": {},
   "outputs": [
    {
     "data": {
      "text/html": [
       "<div>\n",
       "<style scoped>\n",
       "    .dataframe tbody tr th:only-of-type {\n",
       "        vertical-align: middle;\n",
       "    }\n",
       "\n",
       "    .dataframe tbody tr th {\n",
       "        vertical-align: top;\n",
       "    }\n",
       "\n",
       "    .dataframe thead th {\n",
       "        text-align: right;\n",
       "    }\n",
       "</style>\n",
       "<table border=\"1\" class=\"dataframe\">\n",
       "  <thead>\n",
       "    <tr style=\"text-align: right;\">\n",
       "      <th></th>\n",
       "      <th>num_words</th>\n",
       "      <th>num_lines</th>\n",
       "      <th>num_syllables</th>\n",
       "      <th>difficult_words</th>\n",
       "      <th>fog_index</th>\n",
       "      <th>flesch_index</th>\n",
       "      <th>f_k_grade</th>\n",
       "    </tr>\n",
       "  </thead>\n",
       "  <tbody>\n",
       "    <tr>\n",
       "      <td>1950s</td>\n",
       "      <td>172.909502</td>\n",
       "      <td>25.891403</td>\n",
       "      <td>209.871041</td>\n",
       "      <td>13.117647</td>\n",
       "      <td>4.561086</td>\n",
       "      <td>97.440724</td>\n",
       "      <td>1.257014</td>\n",
       "    </tr>\n",
       "    <tr>\n",
       "      <td>1960s</td>\n",
       "      <td>201.562620</td>\n",
       "      <td>30.321773</td>\n",
       "      <td>244.050867</td>\n",
       "      <td>14.851638</td>\n",
       "      <td>4.546435</td>\n",
       "      <td>97.763776</td>\n",
       "      <td>1.200963</td>\n",
       "    </tr>\n",
       "    <tr>\n",
       "      <td>1970s</td>\n",
       "      <td>252.555039</td>\n",
       "      <td>37.683721</td>\n",
       "      <td>303.933488</td>\n",
       "      <td>17.227907</td>\n",
       "      <td>4.556279</td>\n",
       "      <td>98.345674</td>\n",
       "      <td>1.125891</td>\n",
       "    </tr>\n",
       "    <tr>\n",
       "      <td>1980s</td>\n",
       "      <td>287.880105</td>\n",
       "      <td>44.511199</td>\n",
       "      <td>346.388538</td>\n",
       "      <td>19.011858</td>\n",
       "      <td>4.447431</td>\n",
       "      <td>98.349117</td>\n",
       "      <td>1.057312</td>\n",
       "    </tr>\n",
       "    <tr>\n",
       "      <td>1990s</td>\n",
       "      <td>366.645306</td>\n",
       "      <td>52.676602</td>\n",
       "      <td>437.016393</td>\n",
       "      <td>27.463487</td>\n",
       "      <td>4.596721</td>\n",
       "      <td>99.131893</td>\n",
       "      <td>1.040984</td>\n",
       "    </tr>\n",
       "    <tr>\n",
       "      <td>2000s</td>\n",
       "      <td>455.842953</td>\n",
       "      <td>61.726174</td>\n",
       "      <td>537.524698</td>\n",
       "      <td>32.947651</td>\n",
       "      <td>4.774228</td>\n",
       "      <td>99.413315</td>\n",
       "      <td>1.113423</td>\n",
       "    </tr>\n",
       "    <tr>\n",
       "      <td>2010s</td>\n",
       "      <td>413.952991</td>\n",
       "      <td>57.076923</td>\n",
       "      <td>492.409615</td>\n",
       "      <td>28.269231</td>\n",
       "      <td>4.752991</td>\n",
       "      <td>98.602970</td>\n",
       "      <td>1.213889</td>\n",
       "    </tr>\n",
       "    <tr>\n",
       "      <td>difference</td>\n",
       "      <td>282.933451</td>\n",
       "      <td>35.834772</td>\n",
       "      <td>327.653657</td>\n",
       "      <td>19.830004</td>\n",
       "      <td>0.326797</td>\n",
       "      <td>1.972591</td>\n",
       "      <td>0.216030</td>\n",
       "    </tr>\n",
       "  </tbody>\n",
       "</table>\n",
       "</div>"
      ],
      "text/plain": [
       "             num_words  num_lines  num_syllables  difficult_words  fog_index  \\\n",
       "1950s       172.909502  25.891403     209.871041        13.117647   4.561086   \n",
       "1960s       201.562620  30.321773     244.050867        14.851638   4.546435   \n",
       "1970s       252.555039  37.683721     303.933488        17.227907   4.556279   \n",
       "1980s       287.880105  44.511199     346.388538        19.011858   4.447431   \n",
       "1990s       366.645306  52.676602     437.016393        27.463487   4.596721   \n",
       "2000s       455.842953  61.726174     537.524698        32.947651   4.774228   \n",
       "2010s       413.952991  57.076923     492.409615        28.269231   4.752991   \n",
       "difference  282.933451  35.834772     327.653657        19.830004   0.326797   \n",
       "\n",
       "            flesch_index  f_k_grade  \n",
       "1950s          97.440724   1.257014  \n",
       "1960s          97.763776   1.200963  \n",
       "1970s          98.345674   1.125891  \n",
       "1980s          98.349117   1.057312  \n",
       "1990s          99.131893   1.040984  \n",
       "2000s          99.413315   1.113423  \n",
       "2010s          98.602970   1.213889  \n",
       "difference      1.972591   0.216030  "
      ]
     },
     "execution_count": 112,
     "metadata": {},
     "output_type": "execute_result"
    }
   ],
   "source": [
    "r_means = music_df[readability_features+[\"year_bin\"]].groupby(\"year_bin\").mean()\n",
    "r_diff = pd.DataFrame(r_means.apply(lambda x: max(x)-min(x))).transpose()\n",
    "r_diff.index = [\"difference\"]\n",
    "r_means_diff = r_means.append(r_diff)\n",
    "r_means_diff"
   ]
  },
  {
   "cell_type": "markdown",
   "metadata": {},
   "source": [
    "We can see three obvious changes in num_words, num_lines and num_syllables. But these changes are actually correlated with each other and can be represented by one, the change in num_words, As before we plot the change in number of words over decades:"
   ]
  },
  {
   "cell_type": "code",
   "execution_count": 115,
   "metadata": {},
   "outputs": [
    {
     "data": {
      "image/png": "[encoded data removed]",
      "text/plain": [
       "<Figure size 432x288 with 1 Axes>"
      ]
     },
     "metadata": {
      "needs_background": "light"
     },
     "output_type": "display_data"
    }
   ],
   "source": [
    "plt.ylabel(\"number of words in lyrics\")\n",
    "plt.xlabel(\"year_bin\")\n",
    "plt.plot(r_means[\"num_words\"])\n",
    "plt.show()"
   ]
  },
  {
   "cell_type": "markdown",
   "metadata": {},
   "source": [
    "## 2) content analysis of song lyrics over decades"
   ]
  },
  {
   "cell_type": "markdown",
   "metadata": {},
   "source": [
    "Next we directly look at the song lyrics to explore the main themes of the most popular songs over years. Instead of using the topic modelling by LDA, we directly compute the tf-idf scores for each word in song lyrics by the decade. Then we select words with highest scores to identify some trends over decades.  "
   ]
  },
  {
   "cell_type": "code",
   "execution_count": 243,
   "metadata": {},
   "outputs": [],
   "source": [
    "import nltk\n",
    "import string\n",
    "\n",
    "def get_lemmas(text):\n",
    "\n",
    "    stop = nltk.corpus.stopwords.words('english') + list(string.punctuation)\n",
    "    tokens = [i for i in nltk.word_tokenize(text.lower()) if i not in stop]\n",
    "    lemmas = [nltk.stem.WordNetLemmatizer().lemmatize(t, get_wordnet_pos(t)) for t in tokens]\n",
    "    return lemmas\n",
    "\n",
    "def get_wordnet_pos(word):\n",
    "\n",
    "    tag = nltk.pos_tag([word])[0][1][0].upper()\n",
    "    tag_dict = {\"J\": nltk.corpus.wordnet.ADJ,\n",
    "                \"N\": nltk.corpus.wordnet.NOUN,\n",
    "                \"V\": nltk.corpus.wordnet.VERB,\n",
    "                \"R\": nltk.corpus.wordnet.ADV}\n",
    "\n",
    "    return tag_dict.get(tag, nltk.corpus.wordnet.NOUN)\n",
    "\n",
    "def wordCount(lst):\n",
    "    '''\n",
    "    This function return a dictionary of word counts\n",
    "    from a list of words.\n",
    "    '''\n",
    "    result = {}\n",
    "    for word in lst:\n",
    "        good = True\n",
    "        for punct in string.punctuation:\n",
    "            if punct in word:\n",
    "                good = False\n",
    "                break\n",
    "        if good:\n",
    "            result[word] = result.setdefault(word,0)+1\n",
    "    return result \n",
    "\n",
    "def mergCount(dictList):\n",
    "    '''\n",
    "    This function takes a list of dictionary of word counts as input\n",
    "    and returns a dictionary of word counts by adding counts of the \n",
    "    same words from the input.\n",
    "    '''\n",
    "    from collections import Counter \n",
    "    result = Counter()\n",
    "    for d in dictList:\n",
    "        result += Counter(d)\n",
    "    return dict(result)\n",
    "\n",
    "def tf_idf(old_dict,merge_df,tnum_doc):\n",
    "    '''\n",
    "    This function produces a dictionary of the tf-idf scores\n",
    "    based on the original dictionary of word counts.\n",
    "    '''\n",
    "    new_dict = {}\n",
    "    import math\n",
    "    nterms = sum(list(old_dict.values()))\n",
    "    for word in old_dict:\n",
    "        ndoc = 0\n",
    "        for i in range(tnum_doc):\n",
    "            if word in merge_df.iloc[i]:\n",
    "                ndoc+=1\n",
    "        idf = math.log(tnum_doc/ndoc)\n",
    "        tf = old_dict[word]/nterms\n",
    "        new_dict[word] = idf*tf\n",
    "    return new_dict\n",
    "\n",
    "def topWords(df, colname,num_top,tfidf=False):\n",
    "    '''\n",
    "    This function returns the top words from the one column of\n",
    "    the dataframe by the decade.\n",
    "    Caution: running this function may take a while.\n",
    "    '''\n",
    "    lyrics = df[colname].apply(get_lemmas)\n",
    "    counts = lyrics.apply(wordCount)\n",
    "    train_data = pd.concat([counts,df['year_bin']],axis=1)\n",
    "    merge_series = train_data.groupby(\"year_bin\").agg(mergCount)[colname]\n",
    "    # consider the tf-idf scores for words in song lyrics\n",
    "    if tfidf:\n",
    "        tfidf_list=[]\n",
    "        tnum_doc = 7\n",
    "        for i in range(tnum_doc):\n",
    "            tfidf_list.append(tf_idf(merge_series.iloc[i],merge_series,tnum_doc))\n",
    "        series = pd.Series(tfidf_list)\n",
    "        series.index = merge_series.index\n",
    "        merge_series = series\n",
    "    sort_series = merge_series.apply(lambda x: [y[0] for y in sorted(x.items(),key=lambda z:z[1],reverse=True)[:num_top]])\n",
    "    for year in sort_series.index:\n",
    "        print(year,sort_series[year])  "
   ]
  },
  {
   "cell_type": "markdown",
   "metadata": {},
   "source": [
    "We first apply the topWords function to song lyrics and find out the top 10 words by the decade without taking account of the tf-idf score:"
   ]
  },
  {
   "cell_type": "code",
   "execution_count": 332,
   "metadata": {},
   "outputs": [
    {
     "name": "stdout",
     "output_type": "stream",
     "text": [
      "1950s ['love', 'oh', 'go', 'baby', 'get', 'know', 'say', 'come', 'heart', 'like', 'na', 'well', 'never', 'one', 'make', 'dream', 'gon', 'time', 'tell', 'see']\n",
      "1960s ['love', 'get', 'baby', 'know', 'oh', 'go', 'come', 'say', 'yeah', 'na', 'like', 'girl', 'make', 'time', 'see', 'let', 'one', 'la', 'day', 'well']\n",
      "1970s ['love', 'get', 'oh', 'know', 'baby', 'go', 'come', 'yeah', 'like', 'say', 'na', 'make', 'take', 'feel', 'time', 'let', 'see', 'want', 'way', 'never']\n",
      "1980s ['love', 'get', 'na', 'oh', 'know', 'say', 'baby', 'go', 'time', 'want', 'make', 'come', 'like', 'yeah', 'take', 'feel', 'let', 'night', 'one', 'ca']\n",
      "1990s ['get', 'love', 'na', 'know', 'baby', 'go', 'yeah', 'like', 'come', 'make', 'want', 'say', 'oh', 'let', 'see', 'one', 'time', 'wan', 'ca', 'never']\n",
      "2000s ['get', 'know', 'like', 'love', 'go', 'na', 'make', 'baby', 'oh', 'girl', 'say', 'see', 'yeah', 'let', 'come', 'want', 'one', 'ca', 'wan', 'take']\n",
      "2010s ['get', 'like', 'oh', 'na', 'love', 'know', 'go', 'yeah', 'baby', 'let', 'make', 'want', 'say', '’', 'come', 'girl', 'take', 'hey', 'gon', 'one']\n"
     ]
    }
   ],
   "source": [
    "topWords(music_df,\"lyrics\",20)"
   ]
  },
  {
   "cell_type": "markdown",
   "metadata": {},
   "source": [
    "So we can see some prevalent words across decades such as \"love\",\"baby\" plus some common verbs such as \"get\", \"say\",\"go\" and \"know\", which confirms the eternal theme of love for the most popular songs across decades, and also that lyrics of the most popular songs tend to be extremely easy to read. But on the other hand we cannot detect obvious distinctions between decades if we only consider the most common words in song lyrics, so next we apply the topWords function to words in song lyrics with tf-idf scores:"
   ]
  },
  {
   "cell_type": "code",
   "execution_count": 247,
   "metadata": {},
   "outputs": [
    {
     "name": "stdout",
     "output_type": "stream",
     "text": [
      "1950s ['lolli', 'alvin', 'jenny', 'peggy', 'lollipop', 'kew', 'bomp', 'bernadine', 'glendora', 'susie', 'kewpie', 'bung', 'dooley', 'transfusion', 'mambo', 'honeycomb', 'blueberry', 'bah', 'bom', 'dee']\n",
      "1960s ['boogety', 'jude', 'rhonda', 'bossa', 'barbara', 'ann', 'judy', 'kangaroo', 'nananana', 'denise', 'hanky', 'panky', 'bernadette', 'senora', 'safari', 'submarine', 'bismark', 'vandellas', 'georgy', 'pussycat']\n",
      "1970s ['rollercoaster', 'lola', 'bennie', 'hada', 'navy', 'boogie', 'aaah', 'dazz', 'swearin', 'rubberband', 'copa', 'copacabana', 'eres', 'rainin', 'angie', 'lucy', 'bom', 'comma', 'sylvia', 'shambala']\n",
      "1980s ['sa', 'gloria', 'zoomin', 'funkytown', 'urgent', 'eileen', 'kýrie', 'mickey', 'casbah', 'eléison', 'coo', 'dōmo', 'ghostbusters', 'sara', 'adult', 'bamba', 'jeannie', 'material', 'nightshift', 'takedown']\n",
      "1990s ['duuh', 'shoop', 'tootsie', 'nigga', 'melanie', 'humpty', 'freek', 'niggaz', 'murderer', 'doop', 'kris', 'duba', 'dop', 'piss', 'fuck', 'hump', 'emma', 'kah', 'koh', 'escapade']\n",
      "2000s ['thoia', 'nigga', 'shawty', 'thoing', 'bitch', 'womanizer', 'as', 'fuck', 'hump', 'skeet', 'rompe', 'shit', 'hoe', 'shorty', 'im', 'damn', 'lil', 'niggaz', 'bum', 'booty']\n",
      "2010s ['nigga', 'fuck', 'bitch', 'imma', '’', 'as', 'ra', 'blah', 'shawty', 'g6', 'nicki', 'whutooo', 'alejandro', 'shit', 'pitbull', 'bugatti', 'radioactive', 'jagger', 'gosh', 'whataya']\n"
     ]
    }
   ],
   "source": [
    "topWords(music_df,\"lyrics\",20,True)"
   ]
  },
  {
   "cell_type": "markdown",
   "metadata": {},
   "source": [
    "From these top words in terms of their tf-idf scores, we can identify a vague trend that lyrics have been becoming 1)more angry and antisocial over time, 2)more detached from the nature and the public and more attached to personal emotional expressions.\n",
    "\n",
    "From the 1990s, words such as \"nigga\",\"murderer\",\"piss\",\"fuck\",\"bitch\",\"shit\", \"freek\" appeared and these words were rarely observed before 1990s. \n",
    "\n",
    "In constrast, from 1950s to 1980s, we find words such as \"lollipop\",\"knewpie\",\"honeycomb\",\"kangaroo\",'safari',\"blueberry\",\"submarine\",\"rollercoaster\",'navy',\n",
    "'gloria','coo'."
   ]
  },
  {
   "cell_type": "markdown",
   "metadata": {},
   "source": [
    "## Conclusions of the temporal analysis"
   ]
  },
  {
   "cell_type": "markdown",
   "metadata": {},
   "source": [
    "To sum up for the temporal analysis, we have identified several trends of the most popular songs over decades from the acoustic features, sentiment features, readability features and song lyrics contents:\n",
    "\n",
    "- increase in loudness and energy, decrease in acousticness, and music melody becoming more inclined to minor mode\n",
    "- decrease in compound sentiment score\n",
    "- increase in the the number of words in lyrics, while time duration remaining roughly the same, meaining increase in word density\n",
    "- the emotional bias of song lyrics towards more angry and antisocial\n",
    "- the theme of song lyrics becoming more detached from nature and the public but more attached to personal emotional expression.\n",
    "\n",
    "Finally, despite all the trends listed above, we do detect the eternal theme for most of the popular songs: love."
   ]
  },
  {
   "cell_type": "markdown",
   "metadata": {},
   "source": [
    "# Question 2"
   ]
  },
  {
   "cell_type": "markdown",
   "metadata": {},
   "source": [
    "1) For the relevant theories driving the general \"formula\" for the most popular songs across all decades, I take one point from the conclusions of the general analysis:  lyrics of popular songs tend to be easy to read. They are easy to read not only due to some apparent reasons such as the wider recognition by people from various educational levels and the fact that simple words are easier to remember, but also because simple or small words contribute to \"the tension in the popular lyric between its colloquial, vernacular language and its use in a hightened, elevated way framed by the music.\" and \"an aural contradiction between the glibness of the lyric and the uncertainty of the voice\"(Frith 1996). The legisign of this tension or contradiction could be partly confirmed by the observations that the repeatitions of simple words in lyrics to form the rhetorics amenable to further elevation and framing by music. \n",
    "\n",
    "\n",
    "For explaining the temporal features of the most popular songs over decades, I take one point from the conclusions of the temporal analysis above: the themes of song lyrics have become more detached from nature and the public but more attached to personal emotional expressions. One reason could be the rise of individualism in the U.S. these years. To test the greater indivisualism, we can find empirical evidence using three indicators: the U.S. marriage rate, the household size and newborn baby names. Lower marriage rates and smaller household sizes tend to be observed in a more individualistic society(Hofstede G. 2001), and rates of top 10 most common names and an index of individualism were negatively correlated(Hofstede et al., 2010). So we can check the trends of the three indicators as evidence for the greater indivisualism in the U.S these years. "
   ]
  },
  {
   "cell_type": "markdown",
   "metadata": {},
   "source": [
    "2) For the general feature of rhetoric in song lyrics, we compute the proportion of the number of repetative lines in the total number of lines in lyrics for each song, and plot the distribution of proportions for all songs:"
   ]
  },
  {
   "cell_type": "code",
   "execution_count": 250,
   "metadata": {},
   "outputs": [
    {
     "data": {
      "image/png": "[encoded data removed]",
      "text/plain": [
       "<Figure size 432x288 with 1 Axes>"
      ]
     },
     "metadata": {
      "needs_background": "light"
     },
     "output_type": "display_data"
    }
   ],
   "source": [
    "kwargs = dict(hist_kws={'alpha':.6}, kde_kws={'linewidth':2})\n",
    "sns.distplot(music_df['num_dupes']/music_df['num_lines'], color=\"dodgerblue\", label=\"lyrical repeatitions\", **kwargs)\n",
    "plt.show()"
   ]
  },
  {
   "cell_type": "markdown",
   "metadata": {},
   "source": [
    "The median, standard deviation and range of the distribution are:"
   ]
  },
  {
   "cell_type": "code",
   "execution_count": 253,
   "metadata": {},
   "outputs": [
    {
     "name": "stdout",
     "output_type": "stream",
     "text": [
      "median:  0.5294117647058824\n",
      "standard deviation:  0.20902722707492022\n",
      "range:  1.9333333333333333\n"
     ]
    }
   ],
   "source": [
    "proportions = (music_df['num_dupes']/music_df['num_lines'])\n",
    "print(\"median: \",proportions.median())\n",
    "print(\"standard deviation: \", proportions.std())\n",
    "print(\"range: \",proportions.max()-proportions.min())"
   ]
  },
  {
   "cell_type": "markdown",
   "metadata": {},
   "source": [
    "We can see from the above results that on average about half of the song lyrics are repeated at least one time with relative small standard deviation compared with the range, and this average level of repeatition  is way greater than plain words in all forms of literature and thus confirm that the rhethoric by repeatition is prevalent in popular songs and partly explain why easy-to-read words can still construct rhetorics needed to produce the tension or contradiction framed by music.  "
   ]
  },
  {
   "cell_type": "markdown",
   "metadata": {},
   "source": [
    "Next we turn to the temporal anaysis of the empirical evidence indicating greater individualism in the U.S.. First, for the indicator of the househould size, we download U.S. household data from year 1970 to 2018 from [here](https://www.statista.com/statistics/183648/average-size-of-households-in-the-us/), which directly shows the average household sizes in the U.S. by year: "
   ]
  },
  {
   "cell_type": "code",
   "execution_count": 279,
   "metadata": {},
   "outputs": [
    {
     "data": {
      "image/png": "[encoded data removed]",
      "text/plain": [
       "<Figure size 432x288 with 1 Axes>"
      ]
     },
     "metadata": {
      "needs_background": "light"
     },
     "output_type": "display_data"
    }
   ],
   "source": [
    "hsize = pd.read_csv(\"households.csv\",names = [\"year\",\"sizes\"])\n",
    "sns.lineplot(x = \"year\", y = \"sizes\",data = hsize, color=\"dodgerblue\")\n",
    "plt.title(\"Average U.S. household sizes from 1970 to 2018\")\n",
    "plt.show()"
   ]
  },
  {
   "cell_type": "markdown",
   "metadata": {},
   "source": [
    "From the graph we can clearly see the downward trend of average household size in the U.S, which is one indication of the greater individualism over years. Next we download data about the number of marriages from 1990 to 2017 in the U.S. from [here](https://www.statista.com/statistics/195931/number-of-marriages-in-the-united-states-since-1990/) and data about the total population in the corresponding years from [here](https://www.google.com/publicdata/explore?ds=kf7tgg1uo9ude_&hl=en&dl=en#!ctype=l&strail=false&bcs=d&nselm=h&met_y=population&scale_y=lin&ind_y=false&rdim=country&idim=country:US&ifdim=country&hl=en_US&dl=en&ind=false), then we check the marriage rates in the U.S from year 1990 to 2017 by divding the number of marriage by the total population for each year, and plot the trend:"
   ]
  },
  {
   "cell_type": "code",
   "execution_count": 278,
   "metadata": {},
   "outputs": [
    {
     "data": {
      "image/png": "[encoded data removed]",
      "text/plain": [
       "<Figure size 432x288 with 1 Axes>"
      ]
     },
     "metadata": {
      "needs_background": "light"
     },
     "output_type": "display_data"
    }
   ],
   "source": [
    "population  = pd.read_csv(\"population.csv\")\n",
    "nmarriage = pd.read_csv(\"marriages.csv\",names=['year',\"nmarriage\"])\n",
    "nmarriage['year']=nmarriage['year'].apply(lambda x:int(\"19\"+x[-2:] if x[-2]=='9' else \"20\"+x[-2:]))\n",
    "marriage = pd.merge(nmarriage,population,on=\"year\")\n",
    "marriage['mrate'] = marriage['nmarriage']*1000000/marriage['population']\n",
    "sns.lineplot(x = \"year\", y = \"mrate\",data = marriage, color=\"dodgerblue\")\n",
    "plt.title(\"U.S. marriage rate from 1990 to 2017\")\n",
    "plt.show()"
   ]
  },
  {
   "cell_type": "markdown",
   "metadata": {},
   "source": [
    "Again we can see a clearly downward trend of U.S. marriage rate from year 1990 to 2017, which is another indication of the greater individualism over years. Finally we check the rates of top 10 most common names by gender from year 1950 to 2014, and its data can be download from [here](https://www.kaggle.com/kaggle/us-baby-names), and then process the data by gender and by year before plotting the trends for both genders:"
   ]
  },
  {
   "cell_type": "code",
   "execution_count": 324,
   "metadata": {},
   "outputs": [],
   "source": [
    "names = pd.read_csv(\"National_Names.csv\")\n",
    "female_names = names[(names[\"Gender\"]==\"F\") & (names[\"Year\"]>=1950)]\n",
    "male_names = names[(names[\"Gender\"]==\"M\") & (names[\"Year\"]>=1950)]"
   ]
  },
  {
   "cell_type": "code",
   "execution_count": 331,
   "metadata": {},
   "outputs": [
    {
     "data": {
      "image/png": "[encoded data removed]",
      "text/plain": [
       "<Figure size 432x288 with 1 Axes>"
      ]
     },
     "metadata": {
      "needs_background": "light"
     },
     "output_type": "display_data"
    }
   ],
   "source": [
    "# compute the proportion of counts of the top 10 common names in total counts \n",
    "# of names for each year\n",
    "top10 = lambda x: sum(x[:10])\n",
    "fnames = female_names[[\"Year\",\"Count\"]].groupby(\"Year\").agg([top10,sum])\n",
    "fnames.columns = [\"top10\",\"total\"]\n",
    "fnames['female'] = fnames[\"top10\"]/fnames[\"total\"]\n",
    "\n",
    "# we do the same for male names\n",
    "mnames = male_names[[\"Year\",\"Count\"]].groupby(\"Year\").agg([top10,sum])\n",
    "mnames.columns = [\"top10\",\"total\"]\n",
    "mnames['male'] = mnames[\"top10\"]/mnames[\"total\"]\n",
    "\n",
    "ratios = pd.concat([fnames[\"female\"],mnames[\"male\"]],axis=1)\n",
    "ratios.plot()\n",
    "plt.title(\"Rates of top 10 most common names by gender from year 1950 to 2014\")\n",
    "plt.ylabel(\"ratio\")\n",
    "plt.show()"
   ]
  },
  {
   "cell_type": "markdown",
   "metadata": {},
   "source": [
    "We can see from the above graph the downward trends of the top 10 common name rates for both genders, which is another indication of the growing individualism in the U.S. over years."
   ]
  },
  {
   "cell_type": "markdown",
   "metadata": {},
   "source": [
    "3) For the simple words in lyrics of the most popular songs, I consider the prevalence of rhetorics in song lyrics using repeatition can partly confirm the fact that words in song lyrics are easy to read. On the one hand, repeatitions of lyrical words contribute to the glibness of the lyrics and thus the formation of tension or contradiction between the simple words and the uncertainty of the voice framed and heightened by the music. If lyrics were hard to read, they would leave little room for further interpretation and variation framed by the music and voice. On the other hand, repeatitons are more effective and affective by using simple words which are easier for people to sing,remember and broadcast, and thus can significantly increase the popularity of the song. \n",
    "\n",
    "For the question that why the growing individualism contributes to the fact that popular songs become more attached to personal emotional expressions, the answer also lies in the mutual promotion and influence between the growing individualism in the society and personal emotional expressions in the song lyrics. On the one hand, the pop music can be the  reflection of the outside world and thus one product of the social ramifications caused by the growing individualism, so in this sense it plays the role of the emotional outlet for each person in the society to display and commnicate his or her personality to others, and due to the rhetorics in popular songs, this kind of commnication can be both effective and affective. Therefore, more popular songs are created to meet people's desire to express their personality by adding more emotional expressions in lyrics. On the other hand, the emotional expressions may also in turn contribute to the growing individualism in society because they are highly influential, especially to certain groups of people, and can thus become symbols of certain type of personality when people are singing them, which help amplify people's personality and further focus on their own concerns and appeals. To sum up, this mutual reinforcing relationship can be summarized by the two functions of popular music proposed by Simon Frith: the first function of self definition and of creating a place in society for people, and the second function of \"managing the relationship between our public and private emotional life\"(Frith 1987)."
   ]
  },
  {
   "cell_type": "markdown",
   "metadata": {},
   "source": [
    "# References"
   ]
  },
  {
   "cell_type": "markdown",
   "metadata": {},
   "source": [
    "[1] FRITH, Simon. (1996) Performing Rites: On the Value of Popular Music (Cambridge, MA: Harvard University Press).\n",
    "\n",
    "[2] FRITH, Simon. (1987) ‘Towards an Aesthetic of Popular Music,’ in Richard Leppert and Susan McClary (eds.), Music and Society: The Politics of Composition, Performance and Reception (Cambridge: Cambridge University Press), 133-149.\n",
    "\n",
    "[3] Hofstede G. (2001). Culture's Consequences: Comparing Values, Behaviors, Institutions, and Organizations Across Nations, 2nd Edn.\n",
    "\n",
    "[4] Hofstede G., Hofstede J. H., Minkov M. (2010). Cultures and Organizations: Software of the Mind, 3rd Edn. New York, NY: McGraw-Hill."
   ]
  },
  {
   "cell_type": "code",
   "execution_count": null,
   "metadata": {},
   "outputs": [],
   "source": []
  }
 ],
 "metadata": {
  "kernelspec": {
   "display_name": "Python 3 (ipykernel)",
   "language": "python",
   "name": "python3"
  },
  "language_info": {
   "codemirror_mode": {
    "name": "ipython",
    "version": 3
   },
   "file_extension": ".py",
   "mimetype": "text/x-python",
   "name": "python",
   "nbconvert_exporter": "python",
   "pygments_lexer": "ipython3",
   "version": "3.9.7"
  }
 },
 "nbformat": 4,
 "nbformat_minor": 2
}
